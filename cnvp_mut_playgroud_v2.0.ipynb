{
 "cells": [
  {
   "cell_type": "code",
   "execution_count": 13,
   "id": "cc43fb8f-6065-4eae-b89c-3be67f931422",
   "metadata": {},
   "outputs": [],
   "source": [
    "#!/usr/bin/env python3\n",
    "\n",
    "import warnings\n",
    "warnings.simplefilter(action='ignore', category=Warning)\n",
    "import pandas as pd\n",
    "import matplotlib.pyplot as plt\n",
    "import glob\n",
    "import re\n",
    "\n",
    "# .idats and corresponding tumorIDs to read\n",
    "master_file = pd.read_excel('/home/alpha/programs/python_files/datasets/cnv_and_mut/refSet.xlsx')\n",
    "\n",
    "cnvID =  master_file['txt_idat']\n",
    "tumorID = master_file['ING_MAT_ID']\n",
    "\n",
    "path_cnv = '/home/alpha/programs/python_files/datasets/cnv_and_mut/k27_cnv/'\n",
    "path_var = '/home/alpha/programs/python_files/datasets/cnv_and_mut/k27_snp/'\n",
    "\n",
    "# case = []\n",
    "# dfCase = pd.DataFrame()\n",
    "# file_present = glob.glob(path_var + '*' + '-DNA-FFPE_MPILEUP_SNP.recode_filtered_DP15_AF0.1.hg19_multianno._sort.csv')\n",
    "# for f in file_present:\n",
    "#     case.extend(re.findall(\"[0-9]{6}\", f))\n",
    "# dfCase = pd.DataFrame(case)\n",
    "# print(dfCase)\n",
    "\n",
    "# master_file = master_file[master_file['ING_ID'] == dfCase]\n",
    "# print(master_file)\n",
    "\n",
    "\n",
    "\n",
    "def filterCNV(ALL_FREQ=0.5,READ_DP=30,del_cutoff=-0.2,gain_cutoff=0.2):\n",
    "\n",
    "    # filter CNVP\n",
    "    cnv = cnvFrame[['chrom','feature','start','end','metrics']]\n",
    "    cnv = cnv.replace(regex=r'[a-z]',value = '')\n",
    "    cnv = cnv.replace(regex=r'X',value = 23)\n",
    "    cnv = cnv.replace(regex=r'Y',value = 24)\n",
    "    cnvChrom = cnv['chrom']\n",
    "    cnvStart = cnv['start']\n",
    "    cnvEnd = cnv['end']\n",
    "    cnv['cnvCombPos'] = (cnvStart + (cnvEnd - cnvStart) / 2).astype('int')\n",
    "    cnv['cnvCombPos'] = cnvChrom.astype('str') + ':' + cnv['cnvCombPos'].astype('str')\n",
    "    cnvAmpl = cnv[cnv['metrics'] > gain_cutoff]\n",
    "    cnvLoss = cnv[(cnv['metrics'] < del_cutoff) & (cnv['metrics'] > -0.4)]\n",
    "\n",
    "    # filter variants\n",
    "    vars = varFrame[['Chr','Start','Gene.refGene','ExonicFunc.refGene','Ref','Alt','AAChange.refGene','AF','DP']]\n",
    "    vars = vars.replace(regex=r'X',value = 23)\n",
    "    vars = vars.replace(regex=r'Y',value = 24)\n",
    "    vars = vars[vars['AF'] >= ALL_FREQ]\n",
    "    vars = vars[vars['DP'] >= READ_DP]\n",
    "    varChrom = vars['Chr']\n",
    "    varPos = vars['Start']\n",
    "    vars['varCombPos'] = varChrom.astype('str') + ':' + varPos.astype('str')\n",
    "    varIndex = vars['varCombPos']\n",
    "    \n",
    "    varRel = vars[vars['ExonicFunc.refGene'] != 'synonymous SNV']\n",
    "\n",
    "    # iterate through only relevant mutations and whole cnv. Make intersection\n",
    "    cnvAmplList = []\n",
    "    for index, row in cnvAmpl.iterrows():\n",
    "        startCNV = row['start']\n",
    "        endCNV = row['end']\n",
    "        chromCNV = row['chrom']\n",
    "        currentDF = varRel[(varRel[\"Start\"].between(startCNV, endCNV)) & (varRel[\"Chr\"] == chromCNV)]\n",
    "        currentDF['info'] = currentDF['Gene.refGene'].astype('str') + ':' + currentDF['Chr'].astype('str') + ':' + currentDF['Start'].astype('str') + ':' + currentDF['Ref'] + ':' + currentDF['Alt'] + ':' + currentDF['AAChange.refGene'].astype('str')\n",
    "    \n",
    "        if len(currentDF) > 0:\n",
    "            cnvAmplList.extend(currentDF['info'].tolist())\n",
    "\n",
    "\n",
    "    cnvLossList = []\n",
    "    for index, row in cnvLoss.iterrows():\n",
    "        startCNV = row['start']\n",
    "        endCNV = row['end']\n",
    "        chromCNV = row['chrom']\n",
    "        currentDF = varRel[(varRel[\"Start\"].between(startCNV, endCNV)) & (varRel[\"Chr\"] == chromCNV)]\n",
    "        currentDF['info'] = currentDF['Gene.refGene'].astype('str') + ':' + currentDF['Chr'].astype('str') + ':' + currentDF['Start'].astype('str') + ':' + currentDF['Ref'] + ':' + currentDF['Alt'] + ':' + currentDF['AAChange.refGene'].astype('str')\n",
    "    \n",
    "        if len(currentDF) > 0:\n",
    "            cnvLossList.extend(currentDF['info'].tolist())\n",
    "            \n",
    "    return cnvAmplList,cnvLossList\n",
    "    # print(cnvPosList,len(cnvPosList))"
   ]
  },
  {
   "cell_type": "code",
   "execution_count": 14,
   "id": "28bda8ed-800c-46b4-b5a0-99ab26d5d78a",
   "metadata": {},
   "outputs": [
    {
     "name": "stdout",
     "output_type": "stream",
     "text": [
      "61428\n",
      "69692\n",
      "69710\n",
      "69710\n",
      "72212\n",
      "72284\n",
      "74040\n",
      "87490\n",
      "92502\n",
      "97462\n",
      "103852\n",
      "106694\n",
      "109044\n",
      "109940\n",
      "130322\n",
      "131354\n",
      "131586\n",
      "131816\n",
      "140766\n",
      "140770\n",
      "145478\n",
      "150890\n",
      "150970\n",
      "166504\n",
      "166504\n",
      "170136\n",
      "171622\n",
      "171642\n",
      "172042\n",
      "166476\n",
      "186402\n",
      "186402\n",
      "186940\n",
      "229916\n",
      "243794\n",
      "243792\n",
      "245450\n",
      "260434\n",
      "262712\n",
      "279442\n",
      "279442\n",
      "279442\n",
      "320542\n",
      "328162\n",
      "328360\n",
      "330102\n"
     ]
    }
   ],
   "source": [
    "def geneNames(df,gene,f_var):\n",
    "\n",
    "    if len(gene) != 0:\n",
    "        df_helper = pd.DataFrame()\n",
    "        df_helper[\"gene\"] = gene\n",
    "        df_helper[\"sample\"] = f_var\n",
    "        df = pd.concat([df,df_helper])\n",
    "        \n",
    "    return df\n",
    "\n",
    "geneAmplList = []\n",
    "geneLossList = []\n",
    "\n",
    "dfAmpl = pd.DataFrame()\n",
    "dfLoss = pd.DataFrame()\n",
    "\n",
    "# read a .idat and tumorID pair into a dataframe\n",
    "for f_cnv,f_var in zip(cnvID,tumorID):\n",
    "    print(f_var)\n",
    "    cnv_file = glob.glob(path_cnv + f_cnv + '.bins.igv')[0]\n",
    "    var_file = glob.glob(path_var + str(f_var) + '-DNA-FFPE_MPILEUP_SNP.recode_filtered_DP15_AF0.1.hg19_multianno._sort.csv')[0]\n",
    "    cnvFrame = pd.read_csv(cnv_file, sep=\"\\t\", header=0, names=['chrom', 'start', 'end', 'feature', 'metrics'])\n",
    "    varFrame = pd.read_csv(var_file, sep=';')\n",
    "    geneAmpl, geneLoss = filterCNV()\n",
    "    dfAmpl = geneNames(dfAmpl,geneAmpl,f_var)\n",
    "    dfLoss = geneNames(dfLoss,geneLoss,f_var)\n"
   ]
  },
  {
   "cell_type": "code",
   "execution_count": 40,
   "id": "15136d5c-e2fe-401a-8f84-40e326d1fa73",
   "metadata": {},
   "outputs": [
    {
     "ename": "SyntaxError",
     "evalue": "invalid syntax (3389210352.py, line 2)",
     "output_type": "error",
     "traceback": [
      "\u001b[0;36m  Cell \u001b[0;32mIn[40], line 2\u001b[0;36m\u001b[0m\n\u001b[0;31m    dfLoss['gene'].value_counts()[[0,:]]\u001b[0m\n\u001b[0m                                     ^\u001b[0m\n\u001b[0;31mSyntaxError\u001b[0m\u001b[0;31m:\u001b[0m invalid syntax\n"
     ]
    }
   ],
   "source": [
    "# dfLoss = dfLoss[dfLoss['gene'].value_counts() > 5]\n",
    "dfLoss['gene'].value_counts()[[0]]\n",
    "# dfLoss['gene']"
   ]
  },
  {
   "cell_type": "code",
   "execution_count": 16,
   "id": "7acb232e-1f75-4846-b5e4-0cb8173d9cb6",
   "metadata": {},
   "outputs": [
    {
     "data": {
      "text/plain": [
       "PDGFRA:4:55139978:T:C:nan                                          14\n",
       "PDGFRA:4:55151711:C:A:nan                                          10\n",
       "PDGFRA:4:55144447:T:C:nan                                           9\n",
       "PRKCA:17:64783081:G:A:PRKCA:NM_002737:exon15:c.G1702A:p.V568I       8\n",
       "PDGFRA:4:55140016:T:C:nan                                           7\n",
       "                                                                   ..\n",
       "COL2A1:12:48371595:G:A:nan                                          1\n",
       "COL2A1:12:48367829:G:A:nan                                          1\n",
       "ALK:2:29917940:C:G:nan                                              1\n",
       "ALK:2:29455016:C:T:nan                                              1\n",
       "RIMBP3:22:20458029:A:C:RIMBP3:NM_015672:exon1:c.T3273G:p.D1091E     1\n",
       "Name: gene, Length: 514, dtype: int64"
      ]
     },
     "execution_count": 16,
     "metadata": {},
     "output_type": "execute_result"
    }
   ],
   "source": [
    "dfAmpl['gene'].value_counts()"
   ]
  },
  {
   "cell_type": "code",
   "execution_count": 20,
   "id": "d361ce4b-ed38-4f65-9869-dfa08a5313ae",
   "metadata": {
    "scrolled": true
   },
   "outputs": [
    {
     "data": {
      "text/html": [
       "<div>\n",
       "<style scoped>\n",
       "    .dataframe tbody tr th:only-of-type {\n",
       "        vertical-align: middle;\n",
       "    }\n",
       "\n",
       "    .dataframe tbody tr th {\n",
       "        vertical-align: top;\n",
       "    }\n",
       "\n",
       "    .dataframe thead th {\n",
       "        text-align: right;\n",
       "    }\n",
       "</style>\n",
       "<table border=\"1\" class=\"dataframe\">\n",
       "  <thead>\n",
       "    <tr style=\"text-align: right;\">\n",
       "      <th></th>\n",
       "      <th>gene</th>\n",
       "      <th>sample</th>\n",
       "    </tr>\n",
       "  </thead>\n",
       "  <tbody>\n",
       "    <tr>\n",
       "      <th>1</th>\n",
       "      <td>RAD50:5:131892979:G:A:nan</td>\n",
       "      <td>171622</td>\n",
       "    </tr>\n",
       "  </tbody>\n",
       "</table>\n",
       "</div>"
      ],
      "text/plain": [
       "                        gene  sample\n",
       "1  RAD50:5:131892979:G:A:nan  171622"
      ]
     },
     "execution_count": 20,
     "metadata": {},
     "output_type": "execute_result"
    }
   ],
   "source": [
    "dfAmplNew = dfAmpl[dfAmpl['gene'].astype('str').str.contains('RAD50')]\n",
    "\n",
    "dfAmplNew = dfAmplNew.drop_duplicates(subset=['sample'])\n",
    "\n",
    "dfAmplNew"
   ]
  },
  {
   "cell_type": "code",
   "execution_count": 22,
   "id": "65746cce-9c75-444c-adcd-5f4e17708013",
   "metadata": {},
   "outputs": [
    {
     "data": {
      "text/html": [
       "<div>\n",
       "<style scoped>\n",
       "    .dataframe tbody tr th:only-of-type {\n",
       "        vertical-align: middle;\n",
       "    }\n",
       "\n",
       "    .dataframe tbody tr th {\n",
       "        vertical-align: top;\n",
       "    }\n",
       "\n",
       "    .dataframe thead th {\n",
       "        text-align: right;\n",
       "    }\n",
       "</style>\n",
       "<table border=\"1\" class=\"dataframe\">\n",
       "  <thead>\n",
       "    <tr style=\"text-align: right;\">\n",
       "      <th></th>\n",
       "      <th>gene</th>\n",
       "      <th>sample</th>\n",
       "    </tr>\n",
       "  </thead>\n",
       "  <tbody>\n",
       "  </tbody>\n",
       "</table>\n",
       "</div>"
      ],
      "text/plain": [
       "Empty DataFrame\n",
       "Columns: [gene, sample]\n",
       "Index: []"
      ]
     },
     "execution_count": 22,
     "metadata": {},
     "output_type": "execute_result"
    }
   ],
   "source": [
    "dfLossNew = dfLoss[dfLoss['gene'].astype('str').str.contains('PRKCA')]\n",
    "\n",
    "dfLossNew = dfLossNew.drop_duplicates(subset=['sample'])\n",
    "\n",
    "dfLossNew"
   ]
  },
  {
   "cell_type": "code",
   "execution_count": null,
   "id": "e3f18a1d-3883-4016-8a44-1247cf1ffeb9",
   "metadata": {},
   "outputs": [],
   "source": [
    "# make a final set to plot\n",
    "yPos = -0.3\n",
    "mutYPos = []\n",
    "mutXPos = cnvPosList\n",
    "for i in mutXPos:\n",
    "    mutYPos.append(yPos)\n",
    "print(mutXPos)\n",
    "\n",
    "varDf = pd.DataFrame({'mutXPos' : mutXPos, 'mutYPos' : mutYPos})\n",
    "y_var = varDf['mutYPos']\n",
    "x_var = varDf['mutXPos']\n",
    "y_cnv = cnv['metrics']\n",
    "x_cnv = cnv['cnvCombPos']\n",
    "#cnv['cnvCombPos'] = pd.concat([x_var,x_cnv],ignore_index=True)\n",
    "#cnv['metrics'] = pd.concat([y_var,y_cnv],ignore_index=True)\n",
    "#cnv = cnv.sort_values(by=['cnvCombPos'],ascending=False)\n",
    "\n",
    "\n",
    "# Plot\n",
    "plt.title(\"CNV and SNV\")\n",
    "plt.xlabel('position')\n",
    "plt.ylabel('CNV amplitude')\n",
    "plt.scatter(x_cnv,y_cnv,s=4,alpha=0.7)\n",
    "#plt.scatter(x_var,y_var,s=15,alpha=0.8)\n",
    "plt.axhline(y = 0, color ='k')\n",
    "#plt.show()\n",
    "\n",
    "#x1 = ['1:500','1:10','1:20','2:10','2:30','3:10']\n",
    "#y1 = [1,1,1,1,1,1]\n",
    "#x2 = ['7:35','1:10','1:10','1:10','2:25','3:10','3:40','3:05']\n",
    "#y2 = [1.1,1.1,1.1,1.1,1.1,1.1,1.1,1.1]\n",
    "#plt.scatter(x1,y1,s=15,alpha=0.7)\n",
    "#plt.scatter(x2,y2,s=15,alpha=0.8)\n",
    "#plt.show()"
   ]
  },
  {
   "cell_type": "code",
   "execution_count": null,
   "id": "9c6207c0-5f37-4015-a2f0-23481e8e3610",
   "metadata": {},
   "outputs": [],
   "source": []
  }
 ],
 "metadata": {
  "kernelspec": {
   "display_name": "Python 3 (ipykernel)",
   "language": "python",
   "name": "python3"
  },
  "language_info": {
   "codemirror_mode": {
    "name": "ipython",
    "version": 3
   },
   "file_extension": ".py",
   "mimetype": "text/x-python",
   "name": "python",
   "nbconvert_exporter": "python",
   "pygments_lexer": "ipython3",
   "version": "3.11.3"
  }
 },
 "nbformat": 4,
 "nbformat_minor": 5
}
