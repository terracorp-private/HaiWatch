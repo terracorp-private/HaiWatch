{
 "cells": [
  {
   "cell_type": "code",
   "execution_count": null,
   "id": "8997950a-0624-4f03-8055-d84091625027",
   "metadata": {},
   "outputs": [],
   "source": [
    "#!/usr/bin/env python3\n",
    "\n",
    "import pandas as pd\n",
    "import matplotlib.pyplot as plt\n",
    "\n",
    "cnvp_file = pd.read_csv('/home/alpha/programs/python_files/datasets/cnv_and_mut/k27_cnv/207130360109_R08C01.bins.igv',\n",
    "                        sep=\"\\t\",header=0,names=['chrom', 'start', 'end', 'feature', 'metrics'])\n",
    "\n",
    "variants_file = pd.read_csv('/home/alpha/programs/python_files/datasets/cnv_and_mut/k27_snp/330102-DNA-FFPE_MPILEUP_SNP.recode_filtered_DP15_AF0.1.hg19_multianno._sort.csv',sep=';')\n",
    "\n",
    "#print(variants_file.columns)\n",
    "\n",
    "# filter CNVP\n",
    "cnv = cnvp_file[['chrom','feature','start','end','metrics']]\n",
    "cnv = cnv.replace(regex=r'[a-z]',value = '')\n",
    "cnv = cnv.replace(regex=r'X',value = 23)\n",
    "cnv = cnv.replace(regex=r'Y',value = 24)\n",
    "cnvChrom = cnv['chrom']\n",
    "cnvStart = cnv['start']\n",
    "cnvEnd = cnv['end']\n",
    "cnv['cnvCombPos'] = (cnvStart + (cnvEnd - cnvStart) / 2).astype('int')\n",
    "cnv['cnvCombPos'] = cnvChrom.astype('str') + ':' + cnv['cnvCombPos'].astype('str')\n",
    "cnvFiltered = cnv[(cnv['metrics'] < -0.3) | (cnv['metrics'] > 0.3)]\n",
    "\n",
    "print(cnvFiltered)"
   ]
  },
  {
   "cell_type": "code",
   "execution_count": null,
   "id": "23260576-5cf2-46be-8517-f8bf451750c7",
   "metadata": {},
   "outputs": [],
   "source": [
    "# filter parameters\n",
    "ALL_FREQ = 0.8\n",
    "READ_DP = 100\n",
    "\n",
    "\n",
    "# filter variants\n",
    "vars = variants_file[['Chr','Start','Gene.refGene','ExonicFunc.refGene','Ref','Alt','AAChange.refGene','AF','DP']]\n",
    "vars = vars.replace(regex=r'X',value = 23)\n",
    "vars = vars.replace(regex=r'Y',value = 24)\n",
    "vars = vars[vars['AF'] >= ALL_FREQ]\n",
    "vars = vars[vars['DP'] >= READ_DP]\n",
    "varChrom = vars['Chr']\n",
    "varPos = vars['Start']\n",
    "vars['varCombPos'] = varChrom.astype('str') + ':' + varPos.astype('str')\n",
    "varIndex = vars['varCombPos']\n",
    "\n",
    "varRel = vars[vars['ExonicFunc.refGene'] != 'synonymous SNV']\n",
    "\n",
    "print(varRel)\n",
    "#print(cnvFiltered.head())\n",
    "#print(variants_file)\n",
    "#print(vars.head())"
   ]
  },
  {
   "cell_type": "code",
   "execution_count": null,
   "id": "ba2a86c1-8f0b-46c7-b9da-76242413ea46",
   "metadata": {},
   "outputs": [],
   "source": [
    "# iterate through only relevant mutations and whole cnv. Make intersection\n",
    "cnvPosList = []\n",
    "for index, row in cnvFiltered.iterrows():\n",
    "    startCNV = row['start']\n",
    "    endCNV = row['end']\n",
    "    chromCNV = row['chrom']\n",
    "    for index, row in varRel.iterrows():\n",
    "        posVAR = row['Start']\n",
    "        chromVAR = row['Chr']\n",
    "        gene = row['Gene.refGene']\n",
    "        func = row['ExonicFunc.refGene']\n",
    "        ref = row['Ref']\n",
    "        alt = row['Alt']\n",
    "        transcript = row['AAChange.refGene']\n",
    "        if (startCNV <= posVAR) and (posVAR <= endCNV) and (chromVAR == chromCNV):\n",
    "            cnvMutInfo = str(gene) + str(chromVAR) + ':' + str(posVAR) + ':' + ':' + str(func) + ':' + str(ref) + ':' + str(alt) + ':' + str(transcript)\n",
    "                #cnvMutIntersect = str(chromVAR) + ':' + str(posVAR)\n",
    "                #cnvPosList.append(cnvMutIntersect)\n",
    "            cnvPosList.append(cnvMutInfo)\n",
    "            print(cnvPosList,len(cnvPosList))"
   ]
  },
  {
   "cell_type": "code",
   "execution_count": null,
   "id": "41cd0d0a-c971-4137-be9c-8d9b3a6a7261",
   "metadata": {},
   "outputs": [],
   "source": [
    "# make a final set to plot\n",
    "yPos = -0.3\n",
    "mutYPos = []\n",
    "mutXPos = cnvPosList\n",
    "for i in mutXPos:\n",
    "    mutYPos.append(yPos)\n",
    "print(mutXPos)\n",
    "\n",
    "varDf = pd.DataFrame({'mutXPos' : mutXPos, 'mutYPos' : mutYPos})\n",
    "y_var = varDf['mutYPos']\n",
    "x_var = varDf['mutXPos']\n",
    "y_cnv = cnv['metrics']\n",
    "x_cnv = cnv['cnvCombPos']\n",
    "#cnv['cnvCombPos'] = pd.concat([x_var,x_cnv],ignore_index=True)\n",
    "#cnv['metrics'] = pd.concat([y_var,y_cnv],ignore_index=True)\n",
    "#cnv = cnv.sort_values(by=['cnvCombPos'],ascending=False)"
   ]
  }
 ],
 "metadata": {
  "kernelspec": {
   "display_name": "Python 3 (ipykernel)",
   "language": "python",
   "name": "python3"
  },
  "language_info": {
   "codemirror_mode": {
    "name": "ipython",
    "version": 3
   },
   "file_extension": ".py",
   "mimetype": "text/x-python",
   "name": "python",
   "nbconvert_exporter": "python",
   "pygments_lexer": "ipython3",
   "version": "3.11.3"
  }
 },
 "nbformat": 4,
 "nbformat_minor": 5
}
